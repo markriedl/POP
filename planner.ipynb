{
  "nbformat": 4,
  "nbformat_minor": 0,
  "metadata": {
    "colab": {
      "name": "planner.ipynb",
      "provenance": [],
      "collapsed_sections": [
        "OwR2gTen7qgd",
        "b6oku3YA7vs3",
        "7hKRfwAC_QKU",
        "XLHeCaqfl4AE",
        "3xGFxfz6-ZZz",
        "quucdYJ4_pc2",
        "Eg29hy89CROe",
        "bwj4jDZCrJk9",
        "0ub_hICiQOYr",
        "Hj8OW2YmZxqI"
      ],
      "private_outputs": true,
      "authorship_tag": "ABX9TyOVc/cA5t5wxy+sGongm6Ls",
      "include_colab_link": true
    },
    "kernelspec": {
      "name": "python3",
      "display_name": "Python 3"
    },
    "language_info": {
      "name": "python"
    }
  },
  "cells": [
    {
      "cell_type": "markdown",
      "metadata": {
        "id": "view-in-github",
        "colab_type": "text"
      },
      "source": [
        "<a href=\"https://colab.research.google.com/github/markriedl/POP/blob/main/planner.ipynb\" target=\"_parent\"><img src=\"https://colab.research.google.com/assets/colab-badge.svg\" alt=\"Open In Colab\"/></a>"
      ]
    },
    {
      "cell_type": "markdown",
      "source": [
        "# Introduction\n",
        "\n",
        "**Note: this notebook does not require a GPU and can be downloaded and run in jupyter notebooks/lab on virtually any computer.**\n",
        "\n",
        "Partial order planning searches the space of possible plans, looking for one that contains a partially-ordered sequence of actions that transforms an initial state to a state in which a goal situation holds.\n",
        "\n",
        "The initial state is a list of clauses. A clause is a logical predicate of the form `(predicate_name, parameter1, parameter2, ..., parameterN)`. For example, if we wish to express that \"John is at the store\", then we would write `(\"at\", \"john\", \"store\")`. Symbols are strings that are reused and have meaning to the user. The initial state is a list of clauses. Anything that is listed is true in the initial state of the world. Anything that is not in the list can be assumed to be false.\n",
        "\n",
        "A goal is a set of clauses that we want to be true by the end of the plan. Other clauses can be true, but those listed must be true. Clauses in the goal can be of the form given above, but can also include negated clauses `(NOT, (predicate_name, parameter1, parameter2, ... parameterN))`. For example if we what John to not be at the store, then `(NOT, (\"at\", \"john\", \"store))`.\n",
        "\n",
        "Operators are the means by which the state of the world can be changed. Operators are schemas that have N pieces of information:\n",
        " - **name:** the name of the operator (e.g., \"move\")\n",
        " - **vars:** the parameters of the operator (e.g., person, start, destination)\n",
        " - **constraints:** a set of clauses that must be true in the initial state and never change. Constraints are typically clauses about types and imutable properties. For example if want to put constraints on the variables above, we might have e.g., `(\"person\", person), (\"location\", start), (\"location, destination)`. Constraints can also be of the form `(NEQ, var1, var2)` indicating that two variables cannot be bound to the same value. Constraints aren't strictly necessary but speed up planning by preventing actions from being added to the plan that will fail to meet all their preconditions later.\n",
        " - **pre:** the precondition, the set of clauses that must be true for the operator to be used.\n",
        " - **effect:** the set of clauses that will be true after an operator finishes executing.\n",
        "\n",
        "The planner will figure out which operators to put into the plan. When an operator is instantiated and put into the plan, we refer to it as an \"action\" and the variables in vars, pre, and effect, become \"bound\". A variable is bound when a symbol is assigned to the variable. The plan's \"bindings\" is a dictionary that maps variables to symbols (strings). Actions are instantiated because a goal clause is not satisfied. That is, there is nothing in the plan that makes the clause true. When an action is instantiated into the plan to make a goal clause true, we record that relationship with a *causal link*. A causal link is of the form:\n",
        "```\n",
        "LINK:\n",
        "  source: action_id\n",
        "  target: action_id\n",
        "  clause: clause of the target being satisfied by an effect of source\n",
        "```\n",
        "Actions are also instantiated if any other action has a clause in its precondition that is not satisfied.\n",
        "\n",
        "To make things easier, we convert the initial state into a dummy action (`:init`) in which the action's effect is the list of initial state clauses.\n",
        "We also use a goal dummy action (`:goal`) in which the precondition is the list of goal clauses. The init dummy action creates the initial state with its effects and thus must always be first. The goal dummy action requires all goal clauses and must always be last.\n",
        "\n",
        "Plans also have ordering constraints. Ordering constraints are doubles `(action_id1, action_id2)` indicating that action 1 must be absolutely ordered before action 2.\n",
        "\n",
        "Plans have *flaws*. Flaws are reasons why the plan is not complete. In standard planning, there are two types of flaws:\n",
        " - **Open flaw:** A goal clause or a precondition of an action is unsatisfied. That is, there is no causal link that links that precondition of that action to the effect of an earlier action (or initial state). Open flaws are resolved by adding a new action, finding an existing action with an effect that satisfies the open clause, or linking to the initial state. In reality, all legal options are tried.\n",
        " - **Causal threat:** There is an action with an effect that negates the clause of a causal link and no ordering constraints that prohibit that action from occuring during the causal link. Think of a causal link as a duration in which the clause must remain true. Causal threats are resolved by ordering the threatening action before the duration of the causal link or after. Both are tried.\n",
        "\n",
        "A plan object thus has the following members:\n",
        " - **id:** Each plan has a unique identifier\n",
        " - **actions:** Set of actions (unordered), including the init dummy action and goal dummy action.\n",
        " - **binds:** The variable bindings, a dictionary.\n",
        " - **ordering:** Set of ordering constraints. The ordering constraints partially orders the set of actions.\n",
        " - **links:** Set of causal links.\n",
        " - **flaws:** Set of flaw objects.\n",
        " - **reason:** A data structure that stores information about the reason the plan was created (what flaw was being resolved).\n",
        " - **parent:** A pointer to the parent plan. \n",
        "\n",
        "For debugging help, every plan that gets created is added to a global `ALL_PLANS`. Look at the reason and parents to get a sense of what plans were created and why."
      ],
      "metadata": {
        "id": "Ays-hGFb7hhq"
      }
    },
    {
      "cell_type": "markdown",
      "source": [
        "# Installation"
      ],
      "metadata": {
        "id": "OwR2gTen7qgd"
      }
    },
    {
      "cell_type": "markdown",
      "source": [
        "The unification package helps with binding variables to values"
      ],
      "metadata": {
        "id": "kCBa4xDN8-7U"
      }
    },
    {
      "cell_type": "code",
      "execution_count": null,
      "metadata": {
        "id": "tavDdsobkD9e"
      },
      "outputs": [],
      "source": [
        "!pip install unification"
      ]
    },
    {
      "cell_type": "markdown",
      "source": [
        "PyDot is for rendering graphs"
      ],
      "metadata": {
        "id": "5EJ0jvC0aERh"
      }
    },
    {
      "cell_type": "code",
      "source": [
        "!pip install pydot"
      ],
      "metadata": {
        "id": "hzlWZ9cGaBme"
      },
      "execution_count": null,
      "outputs": []
    },
    {
      "cell_type": "markdown",
      "source": [
        "Import packages"
      ],
      "metadata": {
        "id": "p6z8baUPdJ6j"
      }
    },
    {
      "cell_type": "code",
      "source": [
        "from unification import *\n",
        "import struct\n",
        "import copy\n",
        "import pdb\n",
        "from enum import Enum\n",
        "import pydot\n",
        "from IPython.display import Image"
      ],
      "metadata": {
        "id": "C1xJ0_OQkq3g"
      },
      "execution_count": null,
      "outputs": []
    },
    {
      "cell_type": "markdown",
      "source": [
        "# Classes, Types, Enums"
      ],
      "metadata": {
        "id": "b6oku3YA7vs3"
      }
    },
    {
      "cell_type": "markdown",
      "source": [
        "`gensym` creates a unique symbol name (as a string)"
      ],
      "metadata": {
        "id": "EMM76FeH-JHm"
      }
    },
    {
      "cell_type": "code",
      "source": [
        "### Global counter variable\n",
        "COUNTER = 0\n",
        "\n",
        "### Default separator\n",
        "SEP = 'v'\n",
        "\n",
        "def gensym(s = None):\n",
        "  global COUNTER\n",
        "  sym = COUNTER\n",
        "  if s is not None:\n",
        "    sym = s + str(sym)\n",
        "  COUNTER = COUNTER + 1\n",
        "  return sym\n",
        "\n",
        "  ### TODO: create a set of counters for different things (plans, actions, etc.). \n",
        "  ### Create COUNTERS = {} and use the s as the key"
      ],
      "metadata": {
        "id": "NZuHom-iW6DS"
      },
      "execution_count": null,
      "outputs": []
    },
    {
      "cell_type": "markdown",
      "source": [
        "Globals"
      ],
      "metadata": {
        "id": "NxauDTMkdMcB"
      }
    },
    {
      "cell_type": "code",
      "source": [
        "NOT = \":not\"   # This is used to indicate negation\n",
        "NEQ = \":neq\"   # This is \"not equals\"\n",
        "\n",
        "# Partial order planners operate on flaws. There are currently two types of flaws\n",
        "# Open flaws indicate that an action has a precondition that is not satisfied by an earlier action\n",
        "# Causal threats indicate that there is an action that could occur during an interval where it would undo a causal link\n",
        "class FLAW(Enum):\n",
        "  OPEN = \"open\"       # Open flaw\n",
        "  THREAT = \"threat\"   # Causal threat flaw"
      ],
      "metadata": {
        "id": "2jrpyKZADYxY"
      },
      "execution_count": null,
      "outputs": []
    },
    {
      "cell_type": "markdown",
      "source": [
        "Object types"
      ],
      "metadata": {
        "id": "Ep5ALAUFnwdW"
      }
    },
    {
      "cell_type": "code",
      "source": [
        "### PLAN CLASS\n",
        "### \n",
        "### Stores information for the planning problem (initial state and goals) and the current state of solving the problems\n",
        "\n",
        "class Plan():\n",
        "  def __init__(self, init, goal):\n",
        "    ## Start by creating the dummy init and goal actions\n",
        "    ## The init action has no precondition and the effects establish the initial state\n",
        "    ## The goal action has no effect and the precondition is the goal clauses\n",
        "    self.actions = [Action(name = 'init', effect = init, id = \":init\"), \n",
        "                    Action(name = 'goal', pre = goal, id = \":goal\")]\n",
        "    self.binds = {}                         # Bindings (dict)\n",
        "    self.ordering = [(':init', ':goal')]    # Ordering list of (start, end)\n",
        "    self.links = []                         # Causal links (list of Link objects)\n",
        "    self.flaws = []                         # Flaw list (list of Flaw objects)\n",
        "    self.id = gensym()                      # ID (String or number)\n",
        "    self.reason = []                        # Misc information\n",
        "    self.parent = None                      # Pointer to parent plan\n",
        "    # Automatically set up the open list\n",
        "    for clause in goal: \n",
        "      self.flaws.append(Flaw(flaw_type=FLAW.OPEN, data=(clause, ':goal'), source=None))\n",
        "\n",
        "  ### Plan.print()\n",
        "  def print(self):\n",
        "    print(self.id)\n",
        "    print('ACTIONS')\n",
        "    for a in self.actions:\n",
        "      a.print(self.binds)\n",
        "    print('BINDS')\n",
        "    print(self.binds)\n",
        "    print('ORDERING')\n",
        "    for o in self.ordering:\n",
        "      print(o)\n",
        "    print('LINKS')\n",
        "    for l in self.links:\n",
        "      l.print(self.binds)\n",
        "    print('OPEN')\n",
        "    for f in self.flaws:\n",
        "      print(f)\n",
        "    print(\"REASON\")\n",
        "    print(self.reason)\n",
        "\n",
        "  ### Print human-readable version\n",
        "  def pretty_print(self):\n",
        "    # Get topological sort of actions\n",
        "    top_sort = topological_sort(self.actions, self.ordering)\n",
        "    # Remove init and goal actions\n",
        "    top_sort = list(filter(lambda a: a in self.get_real_actions(), top_sort))\n",
        "    # Print each action that remains\n",
        "    for a in top_sort:\n",
        "      print(a.id, a.name, apply_bindings_to_var_list(self.binds, a.vars))\n",
        "\n",
        "  ### Get the :init action\n",
        "  def get_init_action(self):\n",
        "    for act in self.actions:\n",
        "      if act.id == ':init':\n",
        "        return act\n",
        "\n",
        "  ### Get all actions that are not :init or :goal\n",
        "  def get_real_actions(self):\n",
        "    return list(filter(lambda a:a.id != ':init' and a.id != ':goal', self.actions))\n",
        "\n",
        "  def get_action(self, id):\n",
        "    for act in self.actions:\n",
        "      if act.id == id:\n",
        "        return act\n",
        "    return None\n",
        "\n",
        "#######################\n",
        "\n",
        "\n",
        "### ACTION CLASS\n",
        "### \n",
        "### The action class stores information for a particular type of action\n",
        "\n",
        "class Action():\n",
        "  def __init__(self, name, vars = [], pre = [], effect = [], constraints = [], id = gensym()):\n",
        "    self.precondition = pre           # Precondition (list of clauses)\n",
        "    self.effect = effect              # Effect (list of clauses)\n",
        "    self.constraints = constraints    # Constraints (list of clauses, only checked against the init state)\n",
        "    self.name = name                  # Name (string)\n",
        "    self.id = id                      # ID (string or number)\n",
        "    self.vars = vars                  # List of variables\n",
        "\n",
        "  ### Action.print()\n",
        "  def print(self, binds = {}):\n",
        "    print('ACTION', self.id, self.name, apply_bindings_to_var_list(binds, self.vars))\n",
        "    print('constraints', apply_bindings_to_clause_list(binds, self.constraints))\n",
        "    print('pre', apply_bindings_to_clause_list(binds, self.precondition))\n",
        "    print('effect', apply_bindings_to_clause_list(binds, self.effect))\n",
        "\n",
        "\n",
        "\n",
        "###################################\n",
        "\n",
        "### LINK CLASS\n",
        "###\n",
        "### A Causal link, which indicates when an effect of one action satsifies a precondition of another, later, action\n",
        "### This is a labeled arc in a graph\n",
        "\n",
        "class Link():\n",
        "  def __init__(self, source, clause, target):\n",
        "    self.source = source  # id of source action\n",
        "    self.clause = clause  # clause of the causal link\n",
        "    self.target = target  # id of target action\n",
        "\n",
        "  ### Link.print()\n",
        "  def print(self, binds = {}):\n",
        "    print(self.source, apply_bindings_to_clause(binds, self.clause), self.target)\n",
        "\n",
        "###########################\n",
        "\n",
        "### FLAW CLASS\n",
        "###\n",
        "### Indicates when there is a flaw in a plan\n",
        "### Indicates which plan the flaw was found in (can be inherited by children plans)\n",
        "### Contains data about the flaw, though this differs based on the type of flaw\n",
        "\n",
        "class Flaw():\n",
        "  def __init__(self, flaw_type, data, source=None):\n",
        "    self.flaw_type = flaw_type # Enum FLAW(OPEN or THREAT)\n",
        "    self.data = data           # Information about the flaw\n",
        "    self.source = source       # ID of the plan in which the flaw was initially found\n",
        "\n",
        "  ### Flaw.print()\n",
        "  def print(self, binds = {}):\n",
        "    if self.flaw_type == FLAW.THREAT:\n",
        "      link1 = self.data[0]\n",
        "      link2 = self.data[1]\n",
        "      link1.print(binds)\n",
        "      link2.print(binds)\n",
        "    elif self.flaw_type == FLAW.OPEN:\n",
        "      print(apply_bindings_to_clause(binds, self.data[0]), self.data[1])\n"
      ],
      "metadata": {
        "id": "nuz5IenfNPh1"
      },
      "execution_count": null,
      "outputs": []
    },
    {
      "cell_type": "markdown",
      "source": [
        "# Miscellaneous Helper functions"
      ],
      "metadata": {
        "id": "7hKRfwAC_QKU"
      }
    },
    {
      "cell_type": "markdown",
      "source": [
        "Create a total ordering for a partially ordered set of actions"
      ],
      "metadata": {
        "id": "PuhYpS__dPbG"
      }
    },
    {
      "cell_type": "code",
      "source": [
        "def topological_sort(actions, ordering):\n",
        "  sorted_actions = [] # final ordered list of actions\n",
        "  # Get all actions that are preceded by another action (ids)\n",
        "  seconds = list(set(map(lambda o:o[1], ordering)))\n",
        "  # Get all actions that are not preceded by another action\n",
        "  queue = list(set(filter(lambda a:a.id not in seconds, actions)))\n",
        "  # Loop until all actions are used\n",
        "  while len(queue) > 0:\n",
        "    act = queue[0]     # current action\n",
        "    # Pop act from list\n",
        "    queue = queue[1:]\n",
        "    # add current act to final list\n",
        "    sorted_actions.append(act)\n",
        "    # Update the list of actions that are preceded by another action that hasn't already been used (ids)\n",
        "    seconds = list(set(map(lambda o: o[1], \n",
        "                       filter(lambda o: o[0] not in map(lambda a: a.id, \n",
        "                                                        sorted_actions), \n",
        "                              ordering))))\n",
        "    # add all actions that are not preceded to the queue\n",
        "    queue = queue + list(set(filter(lambda a:a.id not in seconds and a.id not in map(lambda a: a.id, sorted_actions) and a.id not in map(lambda a: a.id, queue), \n",
        "                                    actions)))\n",
        "  # Return final sort\n",
        "  return sorted_actions\n"
      ],
      "metadata": {
        "id": "Tvmc0-PtW-Qu"
      },
      "execution_count": null,
      "outputs": []
    },
    {
      "cell_type": "markdown",
      "source": [
        "Detect cycles in the orderings of actions"
      ],
      "metadata": {
        "id": "wukm2ZstnYqY"
      }
    },
    {
      "cell_type": "code",
      "source": [
        "### It appears that topological sort always fails if there is a cycle. If this \n",
        "### ceases to hold, then use the commented out code instead.\n",
        "def has_cycle(ordering, actions):\n",
        "  ### Action indexes in topological order\n",
        "  top_actions = list(map(lambda a: a.id, topological_sort(actions, ordering)))\n",
        "  ### Topological sort can return prematurely if there is a cycle, so this is the first indication\n",
        "  if len(top_actions) < len(actions):\n",
        "    return True\n",
        "  '''\n",
        "  actions = top_actions\n",
        "  print(\"top\", actions)\n",
        "  ancestors = {} # dict of ancestors of each action\n",
        "  # Walk through plan in topological order\n",
        "  for act in actions:\n",
        "    print('ACT', act)\n",
        "    # Prep the dict\n",
        "    if act not in ancestors:\n",
        "      ancestors[act] = []\n",
        "    print(' ancestors', ancestors[act])\n",
        "    # Get successors\n",
        "    nexts = list(set(map(lambda o: o[1], filter(lambda o: o[0] == act, ordering))))\n",
        "    # Look at each succesor \n",
        "    for n in nexts:\n",
        "      print('next', n)\n",
        "      # If the successors is also an ancestor, then we found a cycle\n",
        "      if n in ancestors[act]:\n",
        "        return True\n",
        "      # Prep the dict\n",
        "      if n not in ancestors:\n",
        "        ancestors[n] = []\n",
        "      # add the current act to the successor's ancestors plus any ancestors of the current act\n",
        "      ancestors[n] = list(set(ancestors[n] + [act] + ancestors[act]))\n",
        "      print(' ancestors', ancestors[n])\n",
        "  '''\n",
        "  return False"
      ],
      "metadata": {
        "id": "eQvjAoZzp4Ow"
      },
      "execution_count": null,
      "outputs": []
    },
    {
      "cell_type": "markdown",
      "source": [
        "Getting and removing flaws, determing if a plan satisfies the goal, inserting a plan into a sorted list of plans"
      ],
      "metadata": {
        "id": "98xLedY8ABGq"
      }
    },
    {
      "cell_type": "code",
      "source": [
        "###################################\n",
        "\n",
        "### Get the next open condition to work on\n",
        "### Hard-coded to prefer solving causal threats (fail early is better)\n",
        "\n",
        "def get_flaw(plan):\n",
        "  for flaw in plan.flaws:\n",
        "    if flaw.flaw_type == FLAW.THREAT:\n",
        "      return flaw\n",
        "  return plan.flaws[0]\n",
        "    \n",
        "\n",
        "##################################\n",
        "\n",
        "### Remove a flaw from the plan. \n",
        "### The plan is destructively altered but the plan is returned because I am a lisp programmer\n",
        "\n",
        "def remove_flaw(flaw, plan):\n",
        "  for n, f in enumerate(plan.flaws):\n",
        "    if f.flaw_type == flaw.flaw_type and f.data == flaw.data:\n",
        "      plan.flaws = plan.flaws[:n] + plan.flaws[n+1:]\n",
        "      return plan\n",
        "  return plan\n",
        "  \n",
        "###################################\n",
        "\n",
        "### Is this plan a goal (no open conditions)?\n",
        "\n",
        "def is_goal(plan):\n",
        "  return len(plan.flaws) == 0\n",
        "\n",
        "####################################\n",
        "\n",
        "### DEFAULT HEURISTIC FUNCTION\n",
        "### Number of open flaws as estimate of how much work remains\n",
        "\n",
        "def default_heuristic(plan):\n",
        "  return len(plan.flaws)\n",
        "\n",
        "### DEFAULT COST FUNCTION\n",
        "### Number of actions\n",
        "\n",
        "def default_cost(plan):\n",
        "  return len(plan.get_real_actions())\n",
        "\n",
        "\n",
        "###################################\n",
        "\n",
        "### Insertion sort. Very inefficient if heuristic or cost are non-trivial\n",
        "### TODO: store g and h in the plan object itself\n",
        "\n",
        "def insert_plan(plan, queue, heuristic_fn = default_heuristic, cost_fn = default_cost):\n",
        "  g = cost_fn(plan)\n",
        "  h = heuristic_fn(plan)\n",
        "  f = g + h\n",
        "  for n, p in enumerate(queue):\n",
        "    if f < cost_fn(p) + heuristic_fn(p):\n",
        "      return queue[:n] + [plan] + queue[n:]\n",
        "  return queue + [plan]\n"
      ],
      "metadata": {
        "id": "kLUlpFz9_5By"
      },
      "execution_count": null,
      "outputs": []
    },
    {
      "cell_type": "markdown",
      "source": [
        "# Visualization code"
      ],
      "metadata": {
        "id": "XLHeCaqfl4AE"
      }
    },
    {
      "cell_type": "markdown",
      "source": [
        "Turn clauses and actions into pretty readable strings"
      ],
      "metadata": {
        "id": "8PjPK-ouaUMy"
      }
    },
    {
      "cell_type": "code",
      "source": [
        "def canonical_clause_str(clause, binds):\n",
        "  ## Apply bindings to clause\n",
        "  clause = apply_bindings_to_clause(binds, clause)\n",
        "  neg = False # Is this clause a negation?\n",
        "  if clause[0] == NOT:\n",
        "    ## negation detected, process the inside of the negation\n",
        "    neg = True\n",
        "    clause = clause[1]\n",
        "  ## write the string\n",
        "  out = str(clause[0]) + '('\n",
        "  for n, x in enumerate(clause[1:]):\n",
        "    if n == 0:\n",
        "      out = out + str(x)\n",
        "    else:\n",
        "      out = out + ',' + str(x)\n",
        "  out = out + ')'\n",
        "  ## Put negation info back in\n",
        "  if neg:\n",
        "    out = NOT + '(' + out + ')'\n",
        "  return out \n",
        "\n",
        "def canonical_action_str(act, binds):\n",
        "  out = act.name + '('\n",
        "  for n, x in enumerate(apply_bindings_to_var_list(binds, act.vars)):\n",
        "    if n == 0:\n",
        "      out = out + str(x)\n",
        "    else:\n",
        "      out = out + ',' + str(x)\n",
        "  out = out + ')'\n",
        "  return out "
      ],
      "metadata": {
        "id": "keL70y8FaTWp"
      },
      "execution_count": null,
      "outputs": []
    },
    {
      "cell_type": "markdown",
      "source": [
        "Visualize plans as graphs"
      ],
      "metadata": {
        "id": "HdRx2hQjbp-X"
      }
    },
    {
      "cell_type": "code",
      "source": [
        "def visualize_plan(plan):\n",
        "  ## Initialize the graph\n",
        "  graph = pydot.Dot('plan', graph_type='digraph')\n",
        "  ## Make action nodes\n",
        "  for action in plan.actions:\n",
        "    graph.add_node(pydot.Node(str(action.id), shape='box', fontsize=\"12\", label=canonical_action_str(action, plan.binds)))\n",
        "  ## Make causal links\n",
        "  for link in plan.links:\n",
        "    graph.add_edge(pydot.Edge(str(link.source), str(link.target), color='blue', fontsize=\"12\", label=canonical_clause_str(link.clause, plan.binds)))\n",
        "  ## Make links for ordering constraints\n",
        "  for o in plan.ordering:\n",
        "    graph.add_edge(pydot.Edge(str(o[0]), str(o[1]), style='dotted'))\n",
        "  ## Visualize flaws\n",
        "  for n,f in enumerate(plan.flaws):\n",
        "    ## Open flaws are the open clauses as labels with red links\n",
        "    id = 'f'+str(n) # Unique IDs for the flaw nodes\n",
        "    if f.flaw_type == FLAW.OPEN:\n",
        "      graph.add_node(pydot.Node(id, color=\"red\", shape=\"plain\", fontsize=\"10\", label=canonical_clause_str(f.data[0], plan.binds)))\n",
        "      graph.add_edge(pydot.Edge(id, f.data[1], color=\"red\"))\n",
        "    ## Causal threats are the conflicting effects in red\n",
        "    if f.flaw_type == FLAW.THREAT:\n",
        "      graph.add_node(pydot.Node(id, color=\"green\", shape=\"plain\", fontsize=\"10\", label=canonical_clause_str(f.data[0][1], plan.binds)+'\\n'+canonical_clause_str(f.data[1][1], plan.binds)))\n",
        "      graph.add_edge(pydot.Edge(f.data[0][0], id, color=\"green\"))\n",
        "      graph.add_edge(pydot.Edge(f.data[1][0], id, color=\"green\"))\n",
        "  ## Write to file\n",
        "  filename = 'plan' + str(plan.id) + '.png'\n",
        "  graph.write_png(filename)\n",
        "  ## Draw file to colab cell\n",
        "  return Image(filename)"
      ],
      "metadata": {
        "id": "7Xv7u7aYbspb"
      },
      "execution_count": null,
      "outputs": []
    },
    {
      "cell_type": "markdown",
      "source": [
        "Visualize the space of generated plans"
      ],
      "metadata": {
        "id": "gbAFUMWDlr4V"
      }
    },
    {
      "cell_type": "code",
      "source": [
        "def make_reason_label(reason, binds):\n",
        "  out = ''\n",
        "  for x in reason:\n",
        "    if isinstance(x, tuple):\n",
        "      x = canonical_clause_str(x, binds)\n",
        "    out = out + '\\n' + str(x)\n",
        "  return out\n",
        "\n",
        "def visualize_plan_space(plan_dict):\n",
        "  ## Instantiate the graph\n",
        "  graph = pydot.Dot('space', graph_type='digraph', rankdir=\"LR\")\n",
        "  ## Make a node for each plan\n",
        "  for id in plan_dict.keys():\n",
        "    plan = plan_dict[id]\n",
        "    graph.add_node(pydot.Node(id, shape=\"circle\"))\n",
        "    ## Make the edge back to the parent plan with reason as label\n",
        "    if plan.parent is not None:\n",
        "      graph.add_edge(pydot.Edge(plan.parent.id, id, fontsize=\"10\", label=make_reason_label(plan.reason[0], plan.binds)))\n",
        "  ## Write to file\n",
        "  graph.write_png('space.png')\n",
        "  ## Draw file to colab cell\n",
        "  return Image('space.png')\n"
      ],
      "metadata": {
        "id": "amEmUfvklrGU"
      },
      "execution_count": null,
      "outputs": []
    },
    {
      "cell_type": "markdown",
      "source": [
        "# Variable Binding\n",
        "\n",
        "Variables, as found in action preconditions and effects, reference symbols in the world. A variable is \"bound\" when it has a symbol value associated with it and \"unbound\" if there is none. Bindings are kept as a dictionary where the variable is the key and the symbol is the value. A variable is a special type of object defined in the `unification` package, and symbols are strings that are reused and understood to have meaning to the user."
      ],
      "metadata": {
        "id": "3xGFxfz6-ZZz"
      }
    },
    {
      "cell_type": "markdown",
      "source": [
        "`unify_preconditions` takes two lists of clauses and determines if there are any variable bindings such that all the clauses in the post list are supported by all the clauses in the pre list. It doesn't just have to be applied to preconditions. In fact, preconditions are rarely unified all at once (instead they are broken up in to many different open condition flaws). This is used for constraints, which are like preconditions but are all unified at once and only against the initial state."
      ],
      "metadata": {
        "id": "F3Q22uy4d4gC"
      }
    },
    {
      "cell_type": "code",
      "source": [
        "def unify_preconditions(pre, post, binds = {}):\n",
        "  ### Make a list of possible worlds, each with an unique binding\n",
        "  binds = [binds]\n",
        "  ### Iterate through precondition clauses\n",
        "  for p in pre:\n",
        "    neg = False # Is this a negated clause? (:not (x, y, z))\n",
        "    if p[0] == NOT:\n",
        "      # If so, remember that and also only operate on the nested clause\n",
        "      neg = True\n",
        "      p = p[1]\n",
        "    if p[0] != NEQ:\n",
        "      # Don't process neqs\n",
        "      # Make a temporary set of new worlds to collect up worlds that are still valid with new stuff\n",
        "      new_binds = []\n",
        "      # Iterate through each possible world\n",
        "      for cur_binds in binds:\n",
        "        # Make a deep copy of the bindings\n",
        "        cur_binds = copy.deepcopy(cur_binds)\n",
        "        if not neg:\n",
        "          # If not negated, make new possible worlds for every unification with everything in the postcondition\n",
        "          for i in post:\n",
        "            b = unify(p, i, cur_binds)\n",
        "            if b:\n",
        "              # We unified, remember this new possible world\n",
        "              new_binds.append(b)\n",
        "        else:\n",
        "          # We are dealing with a negated clause, look for cases where there are no unifications\n",
        "          match = False # Have I unified?\n",
        "          for i in post:\n",
        "            b = unify(p, i, cur_binds)\n",
        "            if b:\n",
        "              # We unified, don't remember this possible world\n",
        "              match = True\n",
        "              break\n",
        "          if not match:\n",
        "            # We didn't unify with anything, this means this possible world is still good\n",
        "            new_binds.append(cur_binds)\n",
        "        # Move any possible worlds that survived to the next iteration\n",
        "        binds = new_binds\n",
        "  ### Apply neqs\n",
        "  neqs = list(filter(lambda p:p[0] == NEQ, pre))\n",
        "  new_binds = []\n",
        "  # Iterate through possible worlds\n",
        "  for cur_binds in binds:\n",
        "    prune = False\n",
        "    # Iterate through neqs\n",
        "    for cur_neq in neqs:\n",
        "      elt1 = cur_neq[1]\n",
        "      elt2 = cur_neq[2]\n",
        "      if cur_binds[elt1] == cur_binds[elt2] or cur_binds[elt2] == cur_binds[elt1]:\n",
        "        # We have an equality, prune this possible world\n",
        "        prune = True\n",
        "        break\n",
        "    if (not prune):\n",
        "      # If we got this far then the possible world is still good\n",
        "      new_binds.append(cur_binds)\n",
        "  binds = new_binds\n",
        "  return binds"
      ],
      "metadata": {
        "id": "vNKZgxYxlWMR"
      },
      "execution_count": null,
      "outputs": []
    },
    {
      "cell_type": "markdown",
      "source": [
        "Apply bindings in various ways. Applying a binding to a clause replaces any variables with the values."
      ],
      "metadata": {
        "id": "nBxXZuWBeG6Z"
      }
    },
    {
      "cell_type": "code",
      "source": [
        "### Apply bindings to a single clause\n",
        "\n",
        "def apply_bindings_to_clause(binds, clause):\n",
        "  new_clause = [] # Make a new clause\n",
        "  is_neg = False # was the clause negated\n",
        "  # Remember if the clause is negated\n",
        "  if clause[0] == NOT:\n",
        "    is_neg = True\n",
        "    clause = clause[1]\n",
        "  # Iterate through every element in the clause\n",
        "  for elt in clause:\n",
        "    if isinstance(elt, Var) and elt in binds:\n",
        "      # This is a variable with a binding\n",
        "      new_clause.append(binds[elt])\n",
        "    else:\n",
        "      # This is not a variable or not a variable with a binding\n",
        "      new_clause.append(elt)\n",
        "  # Convert list into a tuple\n",
        "  new_clause = tuple(new_clause)\n",
        "  # restore negation if necessary\n",
        "  if is_neg:\n",
        "    return (NOT, new_clause)\n",
        "  else:\n",
        "    return new_clause\n",
        "\n",
        "##################################\n",
        "\n",
        "### Apply bindings to a list of clauses\n",
        "\n",
        "def apply_bindings_to_clause_list(binds, clause_list):\n",
        "  new_list = []\n",
        "  for clause in clause_list:\n",
        "    new_list.append(apply_bindings_to_clause(binds, clause))\n",
        "  return new_list\n",
        "\n",
        "###################################\n",
        "\n",
        "### Apply bindings to a list of variables (for example: action.vars)\n",
        "\n",
        "def apply_bindings_to_var_list(binds, var_list):\n",
        "  return_list = []\n",
        "  # Iterate through variables\n",
        "  for v in var_list:\n",
        "    if v in binds:\n",
        "      # This variable has a binding, substitute\n",
        "      return_list.append(binds[v])\n",
        "    else:\n",
        "      # This variable does not have a binding\n",
        "      return_list.append(v)\n",
        "  return tuple(return_list)\n",
        "  "
      ],
      "metadata": {
        "id": "mY1kFOj_cUlo"
      },
      "execution_count": null,
      "outputs": []
    },
    {
      "cell_type": "markdown",
      "source": [
        "# Instantiating operators"
      ],
      "metadata": {
        "id": "quucdYJ4_pc2"
      }
    },
    {
      "cell_type": "markdown",
      "source": [
        "Getting operators that satisfy a needed claue (typically a clause in a precondition). This might be a new action, an existing action, or the initial state"
      ],
      "metadata": {
        "id": "nL8I24FphWrY"
      }
    },
    {
      "cell_type": "code",
      "source": [
        "### Given a clause that needs to be solved, find all the operators that might satisfy the need\n",
        "### Returns an environment, a tuple containing (op, bindings)\n",
        "\n",
        "def get_satisfying_ops(clause, binds, ops, init_state):\n",
        "  new_envs = [] # Collect up new environments\n",
        "  # Look at every available operator\n",
        "  for op in ops:\n",
        "    # check constraints first\n",
        "    new_binds = unify_preconditions(op.constraints, init_state, binds)  \n",
        "    # New_binds will be non-empty if constraints can be satisfied--keeps every way of satisfying them\n",
        "    for new_bind in new_binds:        \n",
        "      # iterate through the operator effects, look for one that unifies with the needed clause\n",
        "      for eff in op.effect:\n",
        "        b = unify(clause, eff, new_bind)\n",
        "        if isinstance(b, dict):\n",
        "          # This effect unifies, we found it\n",
        "          new_envs.append((op, b))\n",
        "          break\n",
        "  # Return everything we found\n",
        "  return new_envs\n",
        "\n",
        "\n",
        "\n",
        "\n"
      ],
      "metadata": {
        "id": "7yU2-oPRxQHJ"
      },
      "execution_count": null,
      "outputs": []
    },
    {
      "cell_type": "markdown",
      "source": [
        "Instantiate an operator. An operator is an abstract action template. This makes it a real action ready to be put into a plan."
      ],
      "metadata": {
        "id": "RnqQfvSaApH1"
      }
    },
    {
      "cell_type": "code",
      "source": [
        "### Turn an operator (which is abstract) into an action (which is grounded with bound variables)\n",
        "\n",
        "def instantiate_operator(op, binds):\n",
        "  # Copy the operator\n",
        "  action = copy.deepcopy(op)\n",
        "  new_binds = copy.deepcopy(binds) #MOR 2/24/22\n",
        "  # Give it a new ID\n",
        "  action.id = gensym()\n",
        "  # Make new vars\n",
        "  new_vars = []\n",
        "  # For every variable, make a new variable with the ID concatenated to it\n",
        "  for v in action.vars:\n",
        "    # Make a new variable\n",
        "    new_var = var(v.token + SEP + str(action.id)) # MOR 2/24/22\n",
        "    # We need to update the bindings with the new variable name\n",
        "    new_binds[new_var] = new_binds[v] # MOR 2/24/22\n",
        "    del new_binds[v] # MOR 2/24/22\n",
        "    new_vars.append(new_var)\n",
        "  action.vars = new_vars\n",
        "  # Make new precondition\n",
        "  new_pre = []    \n",
        "  # For every precondition clause, replace old variables with new variables\n",
        "  for clause in action.precondition:\n",
        "    new_clause = [] # Make a new clause\n",
        "    is_neg = False # Keep track of whether the clause is negated\n",
        "    if clause[0] == NOT:\n",
        "      clause = clause[1]\n",
        "      is_neg = True\n",
        "    # Check if each element needs to be replaced by a new variable\n",
        "    for elt in clause:\n",
        "      if isinstance(elt, Var):\n",
        "        new_clause.append(var(elt.token + SEP + str(action.id)))\n",
        "      else:\n",
        "        new_clause.append(elt)\n",
        "    # Convert back into a tuple\n",
        "    new_clause = tuple(new_clause)\n",
        "    # Negate if needed\n",
        "    if is_neg:\n",
        "      new_clause = (NOT, new_clause)\n",
        "    new_pre.append(new_clause)\n",
        "  action.precondition = new_pre\n",
        "  # Make new effect\n",
        "  new_effect = [] \n",
        "  # For every effect clause, replace old variables with new variables\n",
        "  for clause in action.effect:\n",
        "    new_clause = [] # Make a new clause\n",
        "    is_neg = False # keep track of whether the clause is negated\n",
        "    if clause[0] == NOT:\n",
        "      clause = clause[1]\n",
        "      is_neg = True\n",
        "    # check if each element needs to be replaced by a new variable\n",
        "    for elt in clause:\n",
        "      if isinstance(elt, Var):\n",
        "        new_clause.append(var(elt.token + SEP + str(action.id)))\n",
        "      else:\n",
        "        new_clause.append(elt)\n",
        "    # Convert back to tuple\n",
        "    new_clause = tuple(new_clause)\n",
        "    # Negate if needed\n",
        "    if is_neg:\n",
        "      new_clause = (NOT, new_clause)\n",
        "    new_effect.append(new_clause)\n",
        "  action.effect = new_effect\n",
        "  return action, new_binds # MOR 2/24/22 return new bindings with new variable names\n"
      ],
      "metadata": {
        "id": "RwSXrSvQAnjK"
      },
      "execution_count": null,
      "outputs": []
    },
    {
      "cell_type": "markdown",
      "source": [
        "# Making new plans and fixing flaws"
      ],
      "metadata": {
        "id": "Eg29hy89CROe"
      }
    },
    {
      "cell_type": "markdown",
      "source": [
        "Open condition flaws are solved by making a new plan (cloning the old plan and updating it) that either adds a new action or reuses an existing action."
      ],
      "metadata": {
        "id": "BHzfohUqqBEH"
      }
    },
    {
      "cell_type": "code",
      "source": [
        "def make_new_plan_from_existing_action(plan, open_flaw, action, binds = {}):\n",
        "  open_clause = open_flaw.data[0]\n",
        "  open_source = open_flaw.data[1]\n",
        "  # Make the new plan\n",
        "  new_plan = copy.deepcopy(plan)\n",
        "  new_plan.id = gensym()\n",
        "  # Add new bindings\n",
        "  if len(binds.keys()) > 0:\n",
        "    new_binds = binds\n",
        "  else:\n",
        "    new_binds = plan.binds\n",
        "  for clause in action.effect:\n",
        "    b = unify(clause, open_clause, new_binds)\n",
        "    if b:\n",
        "      new_binds = b\n",
        "  new_plan.binds = new_binds\n",
        "  # Remove the open condition being worked on\n",
        "  #new_plan.flaws.remove(open_flaw)\n",
        "  new_plan = remove_flaw(open_flaw, new_plan)\n",
        "  # Add new orderings\n",
        "  new_plan.ordering.append((action.id, open_source))\n",
        "  new_plan.ordering = list(set(new_plan.ordering))\n",
        "  # Add new causal link\n",
        "  new_plan.links.append(Link(action.id, open_clause, open_source))\n",
        "  new_plan.reason.insert(0, ('new_from_existing', 'using', (action.id, action.name), \"to solve\", open_clause, \"from\", open_source))\n",
        "  new_plan.parent = plan\n",
        "  return new_plan\n",
        "\n",
        "#####################################\n",
        "\n",
        "def make_new_plan_from_new_op(plan, open_flaw, op, binds = {}):\n",
        "  open_clause = open_flaw.data[0]\n",
        "  open_source = open_flaw.data[1]\n",
        "  # Make a new action with new, unique variables\n",
        "  new_action, binds = instantiate_operator(op, binds) # MOR 2/24/22 instantiate_operator now returns action and binds\n",
        "  # Make the new plan\n",
        "  new_plan = copy.deepcopy(plan)\n",
        "  new_plan.id = gensym()\n",
        "  # Add new bindings\n",
        "  if len(binds.keys()) > 0:\n",
        "    new_binds = binds\n",
        "  else:\n",
        "    new_binds = new_plan.binds\n",
        "  for clause in new_action.effect:\n",
        "    b = unify(clause, open_clause, new_binds)\n",
        "    if b:\n",
        "      new_binds = b\n",
        "  new_plan.binds = new_binds\n",
        "  # Remove the open condition being worked on\n",
        "  #new_plan.flaws.remove(open_flaw)\n",
        "  new_plan = remove_flaw(open_flaw, new_plan)\n",
        "  # Add the new action\n",
        "  new_plan.actions.append(new_action)\n",
        "  # Add new orderings\n",
        "  new_plan.ordering.append((new_action.id, open_source))\n",
        "  new_plan.ordering.append((':init', new_action.id))\n",
        "  new_plan.ordering = list(set(new_plan.ordering))\n",
        "  # Add new causal link\n",
        "  new_plan.links.append(Link(new_action.id, open_clause, open_source))\n",
        "  # Make new open conditions\n",
        "  for clause in new_action.precondition:\n",
        "    new_plan.flaws.append(Flaw(flaw_type=FLAW.OPEN, source=plan.id, data=(clause, new_action.id)))\n",
        "  new_plan.reason.insert(0, ('new_from_new_op', \"making\", (new_action.id, new_action.name), \"to solve\", open_clause, \"from\", open_source))\n",
        "  new_plan.parent = plan\n",
        "  return new_plan"
      ],
      "metadata": {
        "id": "CVGSgdcuT81E"
      },
      "execution_count": null,
      "outputs": []
    },
    {
      "cell_type": "markdown",
      "source": [
        "Routine for fixing an open condition flaw: Open conditions can be solved by:\n",
        " - Extending a causal link from an existing action\n",
        " - Creating a new action and extending a causal link\n",
        " - (If condition is negated) extending a causal link from the initial state if the condition is not stated (under the closed world assumption)\n",
        "\n",
        "This function tries to find different \"environments\" under which the open flaw can be resolved. An environment is just a potential set of variable bindings. If a new operator is to be added to the plan or a causal link is going to connect up effects of an existing action (or initial state) to the precondition of another action, then some new variable bindings will be needed. The environment contains all the old bindings plus new bindings. "
      ],
      "metadata": {
        "id": "R65aB7NLqLnY"
      }
    },
    {
      "cell_type": "code",
      "source": [
        "def fix_open_flaw(plan, flaw, ops, init):\n",
        "  open_flaw = flaw\n",
        "  open_clause = open_flaw.data[0]\n",
        "  open_source = open_flaw.data[1]\n",
        "  new_plans = []\n",
        "  # are any of the actions in the plan capable of satisfying the open condition?\n",
        "  satisfying_envs = [] # env is (op, binds)\n",
        "  #if open_clause[0] != NOT:\n",
        "  satisfying_envs = get_satisfying_ops(open_clause, plan.binds, plan.get_real_actions() + [plan.get_init_action()], init) \n",
        "  # satisfying_envs contains [0] a action and [1] a binding\n",
        "  for env in satisfying_envs:\n",
        "    print(\"env\", env[0].name, env[0].id, env[1])\n",
        "  print(\"satisfying ops\", list(map(lambda e: (e[0].name, apply_bindings_to_var_list(e[1], e[0].vars)), satisfying_envs)))       \n",
        "  # is the clause negated and satisfied by the initial state?\n",
        "  #else:\n",
        "  if open_clause[0] == NOT:\n",
        "    init_act =  plan.get_init_action()\n",
        "    not_sats = get_satisfying_ops(open_clause[1], plan.binds, [init_act], init) # NEW MOR 2/24/22 I think we just need to check two return types\n",
        "    if not not_sats or len(not_sats) == 0: # NEW MOR 2/24/22 Not entirely sure this fix is necessary though\n",
        "      satisfying_envs.append((init_act, plan.binds))\n",
        "  # Make new plans from existing actions\n",
        "  for env in satisfying_envs:\n",
        "    act = env[0]\n",
        "    env_binds = env[1]\n",
        "    if act.id != open_source:\n",
        "      # Add new plan to the collection of new plans\n",
        "      new_plan = make_new_plan_from_existing_action(plan, open_flaw, act, env_binds)\n",
        "      if not has_cycle(new_plan.ordering, new_plan.actions):\n",
        "        new_plans.append(new_plan)\n",
        "  # Get operators that satisfy the open condition\n",
        "  satisfying_envs = get_satisfying_ops(open_clause, plan.binds, ops, init)\n",
        "  # For each satisyfing operator, make a new plan\n",
        "  for env in satisfying_envs:\n",
        "    op = env[0]\n",
        "    env_binds = env[1]\n",
        "    # Add new plan to the collection of new plans\n",
        "    new_plan = make_new_plan_from_new_op(plan, open_flaw, op, env_binds)\n",
        "    if not has_cycle(new_plan.ordering, new_plan.actions):\n",
        "      new_plans.append(new_plan)\n",
        "  return new_plans\n"
      ],
      "metadata": {
        "id": "6zZwDt_k--3k"
      },
      "execution_count": null,
      "outputs": []
    },
    {
      "cell_type": "markdown",
      "source": [
        "A causal threat occurs when there is an action A in a plan that has an effect `¬ p` that undoes the effect of another action B `p` that is a causal necessity of a third action C that requires `p` as a precondition. \n",
        "\n",
        "Because the action in a plan are partially-ordered, there are two primary ways of resolving the causal threat. The first is to place action A before B so that there is no undoing of B's effects (promotion). The second is to place A after C (demotion). If neither work, then the planner may already have another way of achieving C's precondition in another branch of the search space."
      ],
      "metadata": {
        "id": "S9pPt8kfpQvL"
      }
    },
    {
      "cell_type": "code",
      "source": [
        "### Return s list of causal threat flaws for a plan (if any)\n",
        "\n",
        "def causal_threats(plan):\n",
        "  actions = plan.actions\n",
        "  links = plan.links\n",
        "  ordering = plan.ordering\n",
        "  binds = plan.binds\n",
        "  act_hash = {} # for fast retrieval\n",
        "  for a in actions:\n",
        "    act_hash[a.id] = a\n",
        "  actions = list(map(lambda a: a.id, actions)) # ids of actions\n",
        "  used_actions = [] # actions that have been visited\n",
        "  # Get all actions that are not preceded by another action\n",
        "  queue = list(set(filter(lambda n: n not in map(lambda o: o[1], ordering), \n",
        "                    map(lambda o: o[0], ordering))))\n",
        "  active_links_set = set() # all active links\n",
        "  #active_conditions = [] # any conditions known to be true\n",
        "  # Iterate through queue\n",
        "  while len(queue) > 0:\n",
        "    act = queue[0] # current action (id)\n",
        "    action = act_hash[act] # full object\n",
        "    # current action becomes visited\n",
        "    used_actions.append(act) \n",
        "    # remove current action from queue\n",
        "    queue = queue[1:]\n",
        "    # find any links that have become inactive\n",
        "    inactive_links_set = set(filter(lambda l: l.target == act, links))\n",
        "    # find any links that have become active\n",
        "    active_links_set = active_links_set.union(set(filter(lambda l: l.source == act, links))).difference(inactive_links_set)\n",
        "    # Maintain active conditions. Active conditions are the effects of actions that may or may not be used as outgoing causal links.\n",
        "    for link in active_links_set:\n",
        "      for eff in action.effect:\n",
        "        eff = apply_bindings_to_clause(binds, eff)\n",
        "        clause = apply_bindings_to_clause(binds, link.clause)\n",
        "        if eff == (NOT, clause) or clause == (NOT, eff):\n",
        "          return Flaw(flaw_type = FLAW.THREAT, \n",
        "                      source = plan.id,\n",
        "                      data=((link.source, link.clause, link.target),\n",
        "                            (act, eff, ':goal')))  \n",
        "    '''\n",
        "    remove_list = []\n",
        "    for n, cond in enumerate(active_conditions):\n",
        "      for eff in act_hash[act].effect:\n",
        "        if (eff[0] == NOT and cond[0] != NOT and apply_bindings_to_clause(binds, eff[1]) == apply_bindings_to_clause(binds, cond)) or (eff[0] != NOT and cond[0] == NOT  and apply_bindings_to_clause(binds, eff) == apply_bindings_to_clause(binds, cond[1])):\n",
        "          remove_list.append(n)\n",
        "    for n in remove_list[::-1]:\n",
        "      active_conditions = active_conditions[:n] + active_conditions[n+1:]\n",
        "    active_conditions = active_conditions + apply_bindings_to_clause_list(binds, act_hash[act].effect)\n",
        "    '''\n",
        "    # Check links against links. I'm not entirely sure this is necessary given the above\n",
        "    for link1 in active_links_set:\n",
        "      for link2 in active_links_set:\n",
        "        clause1 = apply_bindings_to_clause(binds, link1.clause)\n",
        "        clause2 = apply_bindings_to_clause(binds, link2.clause)\n",
        "        if clause1 == (NOT, clause2) or clause2 == (NOT, clause1):\n",
        "          return Flaw(flaw_type=FLAW.THREAT, \n",
        "                      source = plan.id,\n",
        "                      data=((link1.source, link1.clause, link1.target),\n",
        "                            (link2.source, link2.clause, link2.target))) \n",
        "    '''\n",
        "    for link in active_links_set:\n",
        "      for cond in active_conditions:\n",
        "        link_cond = apply_bindings_to_clause(binds, link.clause)\n",
        "        if cond == (NOT, link_cond) or link_cond == (NOT, cond):\n",
        "          return Flaw(flaw_type = FLAW.THREAT, \n",
        "                      data=((link.source, link.clause, link.target),\n",
        "                            (act, cond, ':goal')))  \n",
        "    ''' \n",
        "    # successors\n",
        "    seconds = list(set(map(lambda o: o[1], \n",
        "                           filter(lambda o: o[0] not in used_actions, \n",
        "                                   ordering))))\n",
        "    # add all actions that are not preceded to the queue\n",
        "    new_actions = list(set(filter(lambda a: a not in seconds and a not in used_actions and a not in queue, \n",
        "                                    actions)))\n",
        "    queue = queue + new_actions\n",
        "  return None"
      ],
      "metadata": {
        "id": "ULTa538w9GhU"
      },
      "execution_count": null,
      "outputs": []
    },
    {
      "cell_type": "markdown",
      "source": [
        "Routine for fixing a causal threat flaw: Causal threats can be solved by:\n",
        "  - Moving one temporal interval after the other (promotion)\n",
        "  - Moving one temporal interval before the other (demotion)"
      ],
      "metadata": {
        "id": "yc8OUKxMChKD"
      }
    },
    {
      "cell_type": "code",
      "source": [
        "def fix_threat_flaw(plan, flaw, ops, init):\n",
        "  source1, clause1, target1 = flaw.data[0]\n",
        "  source2, clause2, target2 = flaw.data[1]\n",
        "  new_plans = []\n",
        "  # promote\n",
        "  if target1 != ':init' and target1 != ':goal' and source2 != ':init' and source2 != ':goal':\n",
        "    print(\"1\")\n",
        "    new_plan1 = copy.deepcopy(plan)\n",
        "    new_plan1.id = gensym()\n",
        "    new_plan1.ordering.append((target1, source2))\n",
        "    new_plan1.ordering = list(set(new_plan1.ordering))\n",
        "    new_plan1.parent = plan #MOR 2/24/22 Need to update the parent\n",
        "    print(new_plan1.ordering)\n",
        "    # Check that we didn't create a cycle\n",
        "    if not has_cycle(new_plan1.ordering, new_plan1.actions):\n",
        "      print(\"2\")\n",
        "      new_plan1 = remove_flaw(flaw, new_plan1)\n",
        "      new_plan1.reason.insert(0, ('promote', target1, 'before', source2, \"because\", clause1, \"conflicts with\", clause2))\n",
        "      new_plans.append(new_plan1)\n",
        "  # demote\n",
        "  if target2 != ':init' and target2 != ':goal' and source1 != ':init' and source1 != ':goal':\n",
        "    print(\"3\")\n",
        "    new_plan2 = copy.deepcopy(plan)\n",
        "    new_plan2.id = gensym()\n",
        "    new_plan2.ordering.append((target2, source1))\n",
        "    new_plan2.ordering = list(set(new_plan2.ordering))\n",
        "    new_plan2.parent = plan # MOR 2/24/22 Need to update the parent\n",
        "    print(new_plan2.ordering)\n",
        "    # Check that we didn't create a cycle\n",
        "    if not has_cycle(new_plan2.ordering, new_plan2.actions):\n",
        "      print(\"4\")\n",
        "      new_plan2 = remove_flaw(flaw, new_plan2)\n",
        "      new_plan2.reason.insert(0, ('demote', target2, 'after', source1, 'because', clause2, 'conflicts with', clause1))\n",
        "      new_plans.append(new_plan2)\n",
        "  return new_plans"
      ],
      "metadata": {
        "id": "JAbRrLkQCiKW"
      },
      "execution_count": null,
      "outputs": []
    },
    {
      "cell_type": "markdown",
      "source": [
        "# Main planning loop"
      ],
      "metadata": {
        "id": "bwj4jDZCrJk9"
      }
    },
    {
      "cell_type": "markdown",
      "source": [
        "The main planning function `make_plan` takes the following parameters:\n",
        " - init: the initial state, a list of clauses\n",
        " - goal: the goal situation, a list of clauses\n",
        " - ops: a list of operators\n",
        " - heuristic_fn: the heuristic function that evaluates plans. The default heuristic is the number of flaws.\n",
        " - cost_fn: the cost function that evaluates plans. The default is the number of actions in the plan.\n",
        "\n",
        "The `make_plan` function returns two values. The first value is the solution plan object or None. The second value is the remaining queue of plans in the search space that have yet to be expanded.\n",
        "\n",
        "`make_plan` calls `continue_planning`, which can also be used to find more than one solution by taking the remaining queue and passing it back in.\n",
        "\n",
        "For debugging purposes, the planner keeps track of every plan created during search in the `ALL_PLANS` dictionary, indexed by plans' unique identifiers."
      ],
      "metadata": {
        "id": "ukTlfDR_IG_u"
      }
    },
    {
      "cell_type": "code",
      "source": [
        "ALL_PLANS = {} # For debugging purposes, keep all plans generated\n",
        "\n",
        "def make_plan(init, goal, ops, heuristic_fn = default_heuristic, cost_fn = default_cost):\n",
        "  global ALL_PLANS\n",
        "  global COUNTER\n",
        "  ### Reset globals\n",
        "  COUNTER = 0 # This is used by symbol generation. Start symbols at zero.\n",
        "  ALL_PLANS = {} # Clear out debugging cache of all plans generated\n",
        "  ### Make initial plan\n",
        "  init_plan = Plan(init, goal)\n",
        "  ALL_PLANS[init_plan.id] = init_plan\n",
        "  ### Make initial queue\n",
        "  queue = [init_plan]\n",
        "  return continue_planning(queue, init, ops, heuristic_fn, cost_fn)\n",
        "\n",
        "def continue_planning(queue, init, ops, heuristic_fn = default_heuristic, cost_fn = default_cost):\n",
        "  global ALL_PLANS\n",
        "  ### Collect up any new plans to add to queue\n",
        "  new_plans = []\n",
        "  ### Iterate\n",
        "  while len(queue) > 0 and not is_goal(queue[0]):\n",
        "    new_plans = []\n",
        "    # Get the first in the queue\n",
        "    plan = queue[0]\n",
        "    queue = queue[1:]\n",
        "    # Get the open condition to work on\n",
        "    flaw = get_flaw(plan)\n",
        "    print(\"--\")\n",
        "    print(\"current plan\", plan.id)\n",
        "    print(\"reason:\", plan.reason)\n",
        "    print(\"working on\", flaw.flaw_type, \"from parent\", flaw.source, \"flaw data:\", flaw.data)\n",
        "    # Pick the appropriate flaw resolution routine\n",
        "    if flaw.flaw_type == FLAW.OPEN:\n",
        "      new_plans = fix_open_flaw(plan, flaw, ops, init)\n",
        "    elif flaw.flaw_type == FLAW.THREAT:\n",
        "      new_plans = fix_threat_flaw(plan, flaw, ops, init)\n",
        "    print(\"new children:\", list(map(lambda p: p.id, new_plans)))\n",
        "    for np in new_plans:\n",
        "      ALL_PLANS[np.id] = np\n",
        "    # Find causal threats (just one or zero though)\n",
        "    for pl in new_plans:\n",
        "      new_threat_flaw = causal_threats(pl)\n",
        "      if new_threat_flaw is not None:\n",
        "        pl.flaws.append(new_threat_flaw)\n",
        "    #queue = new_plans + queue # depth-first-search\n",
        "    for p in new_plans:\n",
        "      queue = insert_plan(p, queue, heuristic_fn = heuristic_fn, cost_fn = cost_fn)\n",
        "    ### TODO: sort queue by heuristic\n",
        "  if len(new_plans) == 0:\n",
        "    return None, []\n",
        "  else:\n",
        "    print(\"solution plan:\", queue[0].id)\n",
        "    return queue[0], queue[1:]"
      ],
      "metadata": {
        "id": "xIIJy3hGZsNG"
      },
      "execution_count": null,
      "outputs": []
    },
    {
      "cell_type": "markdown",
      "source": [
        "# Part 0"
      ],
      "metadata": {
        "id": "pnN7MfNJI5yT"
      }
    },
    {
      "cell_type": "markdown",
      "source": [
        "## Testing"
      ],
      "metadata": {
        "id": "LtFNaoxAhQlM"
      }
    },
    {
      "cell_type": "markdown",
      "source": [
        "Initial state, goal situation, and operators"
      ],
      "metadata": {
        "id": "oPkjOBQoC5h6"
      }
    },
    {
      "cell_type": "code",
      "source": [
        "### INIT\n",
        "\n",
        "INIT = [('at', 'fred', 'store'), ('at', 'bill', 'home'), ('has', 'fred', 'gun'), \n",
        "        ('weapon', 'gun'), ('alive', 'fred'), ('alive', 'bill'), ('person', 'fred'), ('person', 'bill'),\n",
        "        ('location', 'home'), ('location', 'store')]\n",
        "\n",
        "### GOAL\n",
        "\n",
        "GOAL = [(NOT, ('alive', 'bill')), (NOT, ('has', 'fred', 'gun'))]\n",
        "\n",
        "### VARS\n",
        "### These are needed for variable binding\n",
        "shooter = var('?shooter')\n",
        "victim = var('?victim')\n",
        "weapon = var('?weapon')\n",
        "loc = var('?loc')\n",
        "loc1 = var('?loc1')\n",
        "loc2 = var('?loc2')\n",
        "person = var('?person')\n",
        "\n",
        "### OPERATORS\n",
        "OPS = [Action(name='shoot', \n",
        "              vars = [shooter, victim, weapon, loc],\n",
        "              constraints = [('person', shooter), ('person', victim), ('weapon', weapon), ('location', loc), \n",
        "                             ('alive', shooter), ('alive', victim), (NEQ, shooter, victim)],\n",
        "              pre = [('at', shooter, loc), ('at', victim, loc), ('has', shooter, weapon), ('loaded', weapon)],\n",
        "              effect = [(NOT, ('alive', victim)), (NOT, ('loaded', weapon))]\n",
        "       ),\n",
        "       Action(name='move',\n",
        "              vars = [person, loc1, loc2],\n",
        "              constraints = [('person', person), ('location', loc1), ('location', loc2), (NEQ, loc1, loc2)],\n",
        "              pre = [('at', person, loc1)],\n",
        "              effect = [('at', person, loc2), (NOT, ('at', person, loc1))]\n",
        "       ),  \n",
        "       Action(name='load',\n",
        "              vars = [person, weapon],\n",
        "              constraints = [('person', person), ('weapon', weapon)],\n",
        "              pre = [('has', person, weapon), (NOT, ('loaded', weapon))],\n",
        "              effect = [('loaded', weapon)]\n",
        "       ),\n",
        "       Action(name='sell',\n",
        "              vars = [person, weapon],\n",
        "              constraints = [('person', person), ('weapon', weapon)],\n",
        "              pre = [('has', person, weapon), (NOT, ('loaded', weapon)), ('alive', person)],\n",
        "              effect = [(NOT, ('has', person, weapon))]\n",
        "       )\n",
        "]"
      ],
      "metadata": {
        "id": "9k3qhdGGNljL"
      },
      "execution_count": null,
      "outputs": []
    },
    {
      "cell_type": "markdown",
      "source": [
        "Run the planner with the test domain above"
      ],
      "metadata": {
        "id": "1d4_lAparY9b"
      }
    },
    {
      "cell_type": "code",
      "source": [
        "the_plan, q = make_plan(INIT, GOAL, OPS)\n",
        "if the_plan is not None:\n",
        "  print(\"SOLUTION----------------------------\")\n",
        "  the_plan.pretty_print()"
      ],
      "metadata": {
        "id": "aJkNgaov5k46"
      },
      "execution_count": null,
      "outputs": []
    },
    {
      "cell_type": "markdown",
      "source": [
        "## Visualize the plan"
      ],
      "metadata": {
        "id": "mxxIiZZiPxcj"
      }
    },
    {
      "cell_type": "markdown",
      "source": [
        "`the_plan` is the final solution plan from above. Any plan can be visualized, even if it is incomplete or not a solution. To visualize other plans use `ALL_PLANS[id]` where `id` is the unique identifier of a plan that was generated as part of the search process. Alternatively, one can use `the_plan.parent` and chain backwards.\n",
        " - Boxes: actions\n",
        " - Dotted arrows: ordering constraints\n",
        " - Blue arrows: causal links\n",
        " - Red arrows: open condition flaws\n",
        " - Green arrows: causal threat flaws"
      ],
      "metadata": {
        "id": "YPcccVha8F0n"
      }
    },
    {
      "cell_type": "code",
      "source": [
        "visualize_plan(the_plan) if the_plan else None"
      ],
      "metadata": {
        "id": "QmW9yUvIa-V2"
      },
      "execution_count": null,
      "outputs": []
    },
    {
      "cell_type": "markdown",
      "source": [
        "Visualize the space of all possible plans explored during the generation process. Shows the parent/child relationships between plans. Arcs are annotated with information about what was added/changed between parent and child. You can use the plan identifiers in the above plan visualizer."
      ],
      "metadata": {
        "id": "UL88OboJ8fpi"
      }
    },
    {
      "cell_type": "code",
      "source": [
        "visualize_plan_space(ALL_PLANS) if the_plan else None"
      ],
      "metadata": {
        "id": "SjE57p1hX1Q3"
      },
      "execution_count": null,
      "outputs": []
    },
    {
      "cell_type": "markdown",
      "source": [
        "# Part 1: Bank Robbery domain\n",
        "\n"
      ],
      "metadata": {
        "id": "0ub_hICiQOYr"
      }
    },
    {
      "cell_type": "markdown",
      "source": [
        "Create the bank robbery domain here. You may want to create heuristic and cost functions in extra cells below."
      ],
      "metadata": {
        "id": "AuTxkBKDaV1R"
      }
    },
    {
      "cell_type": "code",
      "source": [
        "### INIT\n",
        "\n",
        "INIT = []\n",
        "\n",
        "### GOAL\n",
        "\n",
        "GOAL = []\n",
        "\n",
        "### VARS\n",
        "\n",
        "\n",
        "### OPERATORS\n",
        "OPS = []"
      ],
      "metadata": {
        "id": "IMv1Tp8vQYUk"
      },
      "execution_count": null,
      "outputs": []
    },
    {
      "cell_type": "markdown",
      "source": [
        "Run the planner with the bank-robbery domain. You may modify the code below to add new heuristic and cost functions."
      ],
      "metadata": {
        "id": "xUqxU9E8awzB"
      }
    },
    {
      "cell_type": "code",
      "source": [
        "the_plan, q = make_plan(INIT, GOAL, OPS)\n",
        "if the_plan is not None:\n",
        "  print(\"SOLUTION----------------------------\")\n",
        "  the_plan.pretty_print()"
      ],
      "metadata": {
        "id": "vO5W08y6Qmqe"
      },
      "execution_count": null,
      "outputs": []
    },
    {
      "cell_type": "code",
      "source": [
        "visualize_plan(the_plan) if the_plan else None"
      ],
      "metadata": {
        "id": "MjeRv3Hj_GUh"
      },
      "execution_count": null,
      "outputs": []
    },
    {
      "cell_type": "code",
      "source": [
        "visualize_plan_space(ALL_PLANS) if the_plan else None"
      ],
      "metadata": {
        "id": "9bvKailD_JRa"
      },
      "execution_count": null,
      "outputs": []
    },
    {
      "cell_type": "markdown",
      "source": [
        "# Part 2: Modified Planner and New Domain"
      ],
      "metadata": {
        "id": "Hj8OW2YmZxqI"
      }
    },
    {
      "cell_type": "markdown",
      "source": [
        "Make new cells, write new functions, and overwrite previous functions and definitions as necessary. Make sure that the original planner can still run if the notebook is reset and run from the beginning.\n",
        "\n",
        "Create your domain here and heuristics below."
      ],
      "metadata": {
        "id": "75mG7fg6bBAi"
      }
    },
    {
      "cell_type": "code",
      "source": [
        "### INIT\n",
        "\n",
        "INIT = []\n",
        "\n",
        "### GOAL\n",
        "\n",
        "GOAL = []\n",
        "\n",
        "### VARS\n",
        "\n",
        "\n",
        "### OPERATORS\n",
        "OPS = []"
      ],
      "metadata": {
        "id": "ixLxzBp5Z1JC"
      },
      "execution_count": null,
      "outputs": []
    },
    {
      "cell_type": "code",
      "source": [
        "the_plan, q = make_plan(INIT, GOAL, OPS)\n",
        "if the_plan is not None:\n",
        "  print(\"SOLUTION----------------------------\")\n",
        "  the_plan.pretty_print()"
      ],
      "metadata": {
        "id": "U66XPxf4Z2tC"
      },
      "execution_count": null,
      "outputs": []
    },
    {
      "cell_type": "code",
      "source": [
        "visualize_plan(the_plan) if the_plan else None"
      ],
      "metadata": {
        "id": "Iz_fDy8Ibtuu"
      },
      "execution_count": null,
      "outputs": []
    },
    {
      "cell_type": "code",
      "source": [
        "visualize_plan_space(ALL_PLANS) if the_plan else None"
      ],
      "metadata": {
        "id": "CtDsdoShbv4d"
      },
      "execution_count": null,
      "outputs": []
    },
    {
      "cell_type": "markdown",
      "source": [
        "Provide cells that generate different plans for different characters with different personalities."
      ],
      "metadata": {
        "id": "DFdBJdlYwF__"
      }
    },
    {
      "cell_type": "markdown",
      "source": [
        "Provide cells that show that a character will violate their own preferences when there is no other way to solve a problem"
      ],
      "metadata": {
        "id": "m5sBL8xpwOYV"
      }
    },
    {
      "cell_type": "markdown",
      "source": [
        "Write your explanation for how you detect personality flaws and repair personality flaws in a text cell below."
      ],
      "metadata": {
        "id": "7UYfltbZwUyf"
      }
    }
  ]
}